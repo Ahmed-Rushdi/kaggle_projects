{
  "nbformat": 4,
  "nbformat_minor": 0,
  "metadata": {
    "colab": {
      "provenance": [],
      "gpuType": "T4",
      "authorship_tag": "ABX9TyN4ELinY4sP6Y16i95s6umg",
      "include_colab_link": true
    },
    "kernelspec": {
      "name": "python3",
      "display_name": "Python 3"
    },
    "language_info": {
      "name": "python"
    }
  },
  "cells": [
    {
      "cell_type": "markdown",
      "metadata": {
        "id": "view-in-github",
        "colab_type": "text"
      },
      "source": [
        "<a href=\"https://colab.research.google.com/github/Ahmed-Rushdi/kaggle_projects/blob/main/Code_along_Andrej_K.ipynb\" target=\"_parent\"><img src=\"https://colab.research.google.com/assets/colab-badge.svg\" alt=\"Open In Colab\"/></a>"
      ]
    },
    {
      "cell_type": "code",
      "source": [
        "import numpy as np\n",
        "import math\n",
        "import matplotlib.pyplot  as plt"
      ],
      "metadata": {
        "id": "2F7FF0xctZzp"
      },
      "execution_count": 1,
      "outputs": []
    },
    {
      "cell_type": "code",
      "source": [
        "class Value:\n",
        "  def __init__(self, data, _children=(), _op=''):\n",
        "    self.data = data\n",
        "    self.grad = 0\n",
        "    self._backwards =lambda x: None\n",
        "    self._prev = set(_children)\n",
        "    self._op = _op\n",
        "\n",
        "  def __repr__(self):\n",
        "    return f\"Value(data={self.data})\"#, children={self._prev})\"\n",
        "  def __add__(self, other):\n",
        "    return Value(self.data + other.data, (self, other), '+')\n",
        "  def __sub__(self, other):\n",
        "    return Value(self.data - other.data, (self, other), '-')\n",
        "  def __mul__(self, other):\n",
        "    return Value(self.data * other.data, (self, other), '*')\n",
        "  def __truediv__(self, other):\n",
        "    return Value(self.data / other.data, (self, other), '/')\n",
        "\n",
        "  #Breadth-first_graph_traversal\n",
        "  @staticmethod\n",
        "  def get_computational_graph(node):\n",
        "    node_list = list()\n",
        "    visited_list = list()\n",
        "    op_list = list()\n",
        "    # node_list.append(node)\n",
        "    visited_list.append(node)\n",
        "    i = 0\n",
        "    while True:\n",
        "      # import ipdb;ipdb.set_trace()\n",
        "      # print(f\"{(i := i + 1)}, {len(visited_list)}, {len(op_list)}\")\n",
        "      node = visited_list[0]\n",
        "      node_list.append(node)\n",
        "\n",
        "      if node != None:\n",
        "        if len(node._prev) != 0:\n",
        "          visited_list.extend(node._prev)\n",
        "          op_list.append(node._op)\n",
        "        else:\n",
        "          visited_list.extend((None,None))\n",
        "          op_list.append(None)\n",
        "\n",
        "      visited_list.pop(0)\n",
        "      if len(visited_list) == 0:\n",
        "        break\n",
        "\n",
        "\n",
        "    return node_list, op_list\n",
        "\n",
        "\n",
        "    # op_list.append()\n",
        "\n",
        "\n",
        "a = Value(2)\n",
        "b = Value(5)\n",
        "c = a - b\n",
        "d = c * Value(3) + a /b\n",
        "nodes,operations = Value.get_computational_graph(d)\n",
        "print(f\"{nodes}\\n{len(nodes)}\\nOperation match the  elements in 2n+1, 2n+2  eg. operation[2] match nodes[5], nodes[6]\\n{operations}\\n{len(operation)}\")"
      ],
      "metadata": {
        "colab": {
          "base_uri": "https://localhost:8080/"
        },
        "id": "jTs50yt0tiyI",
        "outputId": "e6327504-efcb-49d6-f7e8-934be0959395"
      },
      "execution_count": 13,
      "outputs": [
        {
          "output_type": "stream",
          "name": "stdout",
          "text": [
            "[Value(data=-8.6), Value(data=-9), Value(data=0.4), Value(data=-3), Value(data=3), Value(data=2), Value(data=5), Value(data=2), Value(data=5), None, None, None, None, None, None, None, None, None, None]\n",
            "19\n",
            "Operation match the  elements in 2n+1, 2n+2  eg. operation[2] match nodes[5], nodes[6]\n",
            "['+', '*', '/', '-', None, None, None, None, None]\n",
            "9\n"
          ]
        }
      ]
    },
    {
      "cell_type": "code",
      "source": [
        "!pip install ipdb"
      ],
      "metadata": {
        "id": "UICVbDg-_adW"
      },
      "execution_count": null,
      "outputs": []
    },
    {
      "cell_type": "code",
      "source": [],
      "metadata": {
        "id": "IxeRlM4VEXn-"
      },
      "execution_count": null,
      "outputs": []
    }
  ]
}