{
  "nbformat": 4,
  "nbformat_minor": 0,
  "metadata": {
    "colab": {
      "provenance": [],
      "gpuType": "T4",
      "authorship_tag": "ABX9TyPyqbC2o6Z5C9oHA7QYZJV2",
      "include_colab_link": true
    },
    "kernelspec": {
      "name": "python3",
      "display_name": "Python 3"
    },
    "language_info": {
      "name": "python"
    }
  },
  "cells": [
    {
      "cell_type": "markdown",
      "metadata": {
        "id": "view-in-github",
        "colab_type": "text"
      },
      "source": [
        "<a href=\"https://colab.research.google.com/github/Ahmed-Rushdi/kaggle_projects/blob/main/Code_along_Andrej_K.ipynb\" target=\"_parent\"><img src=\"https://colab.research.google.com/assets/colab-badge.svg\" alt=\"Open In Colab\"/></a>"
      ]
    },
    {
      "cell_type": "code",
      "source": [
        "import numpy as np\n",
        "import math\n",
        "import matplotlib.pyplot  as plt\n",
        "import graphviz\n"
      ],
      "metadata": {
        "id": "2F7FF0xctZzp"
      },
      "execution_count": 1,
      "outputs": []
    },
    {
      "cell_type": "code",
      "source": [
        "class Value:\n",
        "  def __init__(self, data, _children=(), _op=''):\n",
        "    self.data = data\n",
        "    self.grad = 0\n",
        "    self._backwards =lambda x: None\n",
        "    self._prev = set(_children)\n",
        "    self._op = _op\n",
        "\n",
        "  def __repr__(self):\n",
        "    return f\"Value(data={self.data})\"#, children={self._prev})\"\n",
        "  def __add__(self, other):\n",
        "    return Value(self.data + other.data, (self, other), '+')\n",
        "  def __sub__(self, other):\n",
        "    return Value(self.data - other.data, (self, other), '-')\n",
        "  def __mul__(self, other):\n",
        "    return Value(self.data * other.data, (self, other), '*')\n",
        "  def __truediv__(self, other):\n",
        "    return Value(self.data / other.data, (self, other), '/')\n",
        "\n",
        "  #Breadth-first_graph_traversal\n",
        "  @staticmethod\n",
        "  def get_computational_graph(node):\n",
        "    node_list = list()\n",
        "    visited_list = list()\n",
        "    op_list = list()\n",
        "    # node_list.append(node)\n",
        "    visited_list.append(node)\n",
        "    i = 0\n",
        "    while True:\n",
        "      # import ipdb;ipdb.set_trace()\n",
        "      # print(f\"{(i := i + 1)}, {len(visited_list)}, {len(op_list)}\")\n",
        "      node = visited_list[0]\n",
        "      node_list.append(node)\n",
        "\n",
        "      if node != None:\n",
        "        if len(node._prev) != 0:\n",
        "          visited_list.extend(node._prev)\n",
        "          op_list.append(node._op)\n",
        "        else:\n",
        "          visited_list.extend((None,None))\n",
        "          op_list.append(None)\n",
        "\n",
        "      visited_list.pop(0)\n",
        "      if len(visited_list) == 0:\n",
        "        break\n",
        "\n",
        "\n",
        "    return node_list, op_list\n",
        "\n",
        "  @staticmethod\n",
        "  def plot_graph(node_list, op_list):\n",
        "    cg = graphviz.Digraph('compu_graph', comment='Computational Graph')\n",
        "    [cg.node(str(n)) for n in filter(lambda x: x, node_list)]\n",
        "    for i in range(len(op_list)):\n",
        "      if op_list[i]:\n",
        "        temp = f\"{node_list[2*i+1]}{op_list[i]}{node_list[2*i+2]}\"\n",
        "        cg.node(temp)\n",
        "        cg.edge(str(node_list[2*i+1]), temp), cg.edge(str(node_list[2*i+2]), temp)\n",
        "        cg.edge(temp, str(node_list[i]))\n",
        "    return cg\n",
        "\n",
        "\n",
        "a = Value(2)\n",
        "b = Value(5)\n",
        "c = a - b\n",
        "d = c * Value(3) + a /b\n",
        "nodes,operations = Value.get_computational_graph(d)\n",
        "print(f\"\"\"{nodes}\\n{len(nodes)}\n",
        "Operation match the nodes in 2n+1, 2n+2  eg. operation[2] match nodes[5], nodes[6]\n",
        "{operations}\\n{len(operations)}\"\"\")"
      ],
      "metadata": {
        "colab": {
          "base_uri": "https://localhost:8080/"
        },
        "id": "jTs50yt0tiyI",
        "outputId": "8ce2e502-f048-445d-eef8-9fbd7cee7752"
      },
      "execution_count": 27,
      "outputs": [
        {
          "output_type": "stream",
          "name": "stdout",
          "text": [
            "[Value(data=-8.6), Value(data=-9), Value(data=0.4), Value(data=3), Value(data=-3), Value(data=5), Value(data=2), None, None, Value(data=5), Value(data=2), None, None, None, None, None, None, None, None]\n",
            "19\n",
            "Operation match the nodes in 2n+1, 2n+2  eg. operation[2] match nodes[5], nodes[6]\n",
            "['+', '*', '/', None, '-', None, None, None, None]\n",
            "9\n"
          ]
        }
      ]
    },
    {
      "cell_type": "code",
      "source": [
        "Value.plot_graph(nodes, operations)"
      ],
      "metadata": {
        "id": "UICVbDg-_adW",
        "colab": {
          "base_uri": "https://localhost:8080/",
          "height": 656
        },
        "outputId": "43272d23-a993-4385-b10e-23378765a252"
      },
      "execution_count": 28,
      "outputs": [
        {
          "output_type": "execute_result",
          "data": {
            "image/svg+xml": "<?xml version=\"1.0\" encoding=\"UTF-8\" standalone=\"no\"?>\n<!DOCTYPE svg PUBLIC \"-//W3C//DTD SVG 1.1//EN\"\n \"http://www.w3.org/Graphics/SVG/1.1/DTD/svg11.dtd\">\n<!-- Generated by graphviz version 2.43.0 (0)\n -->\n<!-- Title: compu_graph Pages: 1 -->\n<svg width=\"482pt\" height=\"476pt\"\n viewBox=\"0.00 0.00 482.13 476.00\" xmlns=\"http://www.w3.org/2000/svg\" xmlns:xlink=\"http://www.w3.org/1999/xlink\">\n<g id=\"graph0\" class=\"graph\" transform=\"scale(1 1) rotate(0) translate(4 472)\">\n<title>compu_graph</title>\n<polygon fill=\"white\" stroke=\"transparent\" points=\"-4,4 -4,-472 478.13,-472 478.13,4 -4,4\"/>\n<!-- Value(data=&#45;8.6) -->\n<g id=\"node1\" class=\"node\">\n<title>Value(data=&#45;8.6)</title>\n<ellipse fill=\"none\" stroke=\"black\" cx=\"258.39\" cy=\"-18\" rx=\"70.69\" ry=\"18\"/>\n<text text-anchor=\"middle\" x=\"258.39\" y=\"-14.3\" font-family=\"Times,serif\" font-size=\"14.00\">Value(data=&#45;8.6)</text>\n</g>\n<!-- Value(data=&#45;9) -->\n<g id=\"node2\" class=\"node\">\n<title>Value(data=&#45;9)</title>\n<ellipse fill=\"none\" stroke=\"black\" cx=\"212.39\" cy=\"-162\" rx=\"63.89\" ry=\"18\"/>\n<text text-anchor=\"middle\" x=\"212.39\" y=\"-158.3\" font-family=\"Times,serif\" font-size=\"14.00\">Value(data=&#45;9)</text>\n</g>\n<!-- Value(data=&#45;9)+Value(data=0.4) -->\n<g id=\"node8\" class=\"node\">\n<title>Value(data=&#45;9)+Value(data=0.4)</title>\n<ellipse fill=\"none\" stroke=\"black\" cx=\"258.39\" cy=\"-90\" rx=\"126.18\" ry=\"18\"/>\n<text text-anchor=\"middle\" x=\"258.39\" y=\"-86.3\" font-family=\"Times,serif\" font-size=\"14.00\">Value(data=&#45;9)+Value(data=0.4)</text>\n</g>\n<!-- Value(data=&#45;9)&#45;&gt;Value(data=&#45;9)+Value(data=0.4) -->\n<g id=\"edge1\" class=\"edge\">\n<title>Value(data=&#45;9)&#45;&gt;Value(data=&#45;9)+Value(data=0.4)</title>\n<path fill=\"none\" stroke=\"black\" d=\"M223.53,-144.05C228.93,-135.84 235.53,-125.79 241.53,-116.66\"/>\n<polygon fill=\"black\" stroke=\"black\" points=\"244.47,-118.55 247.04,-108.28 238.62,-114.71 244.47,-118.55\"/>\n</g>\n<!-- Value(data=0.4) -->\n<g id=\"node3\" class=\"node\">\n<title>Value(data=0.4)</title>\n<ellipse fill=\"none\" stroke=\"black\" cx=\"360.39\" cy=\"-234\" rx=\"67.69\" ry=\"18\"/>\n<text text-anchor=\"middle\" x=\"360.39\" y=\"-230.3\" font-family=\"Times,serif\" font-size=\"14.00\">Value(data=0.4)</text>\n</g>\n<!-- Value(data=0.4)&#45;&gt;Value(data=&#45;9)+Value(data=0.4) -->\n<g id=\"edge2\" class=\"edge\">\n<title>Value(data=0.4)&#45;&gt;Value(data=&#45;9)+Value(data=0.4)</title>\n<path fill=\"none\" stroke=\"black\" d=\"M348.29,-216.15C330.59,-191.52 297.52,-145.47 276.8,-116.63\"/>\n<polygon fill=\"black\" stroke=\"black\" points=\"279.47,-114.35 270.79,-108.27 273.78,-118.43 279.47,-114.35\"/>\n</g>\n<!-- Value(data=3) -->\n<g id=\"node4\" class=\"node\">\n<title>Value(data=3)</title>\n<ellipse fill=\"none\" stroke=\"black\" cx=\"257.39\" cy=\"-306\" rx=\"61.19\" ry=\"18\"/>\n<text text-anchor=\"middle\" x=\"257.39\" y=\"-302.3\" font-family=\"Times,serif\" font-size=\"14.00\">Value(data=3)</text>\n</g>\n<!-- Value(data=3)*Value(data=&#45;3) -->\n<g id=\"node9\" class=\"node\">\n<title>Value(data=3)*Value(data=&#45;3)</title>\n<ellipse fill=\"none\" stroke=\"black\" cx=\"156.39\" cy=\"-234\" rx=\"118.08\" ry=\"18\"/>\n<text text-anchor=\"middle\" x=\"156.39\" y=\"-230.3\" font-family=\"Times,serif\" font-size=\"14.00\">Value(data=3)*Value(data=&#45;3)</text>\n</g>\n<!-- Value(data=3)&#45;&gt;Value(data=3)*Value(data=&#45;3) -->\n<g id=\"edge4\" class=\"edge\">\n<title>Value(data=3)&#45;&gt;Value(data=3)*Value(data=&#45;3)</title>\n<path fill=\"none\" stroke=\"black\" d=\"M234.47,-289.12C221.04,-279.81 203.86,-267.9 189.04,-257.63\"/>\n<polygon fill=\"black\" stroke=\"black\" points=\"190.84,-254.62 180.63,-251.8 186.85,-260.37 190.84,-254.62\"/>\n</g>\n<!-- Value(data=&#45;3) -->\n<g id=\"node5\" class=\"node\">\n<title>Value(data=&#45;3)</title>\n<ellipse fill=\"none\" stroke=\"black\" cx=\"114.39\" cy=\"-306\" rx=\"63.89\" ry=\"18\"/>\n<text text-anchor=\"middle\" x=\"114.39\" y=\"-302.3\" font-family=\"Times,serif\" font-size=\"14.00\">Value(data=&#45;3)</text>\n</g>\n<!-- Value(data=&#45;3)&#45;&gt;Value(data=3)*Value(data=&#45;3) -->\n<g id=\"edge5\" class=\"edge\">\n<title>Value(data=&#45;3)&#45;&gt;Value(data=3)*Value(data=&#45;3)</title>\n<path fill=\"none\" stroke=\"black\" d=\"M124.56,-288.05C129.44,-279.92 135.39,-270 140.82,-260.94\"/>\n<polygon fill=\"black\" stroke=\"black\" points=\"143.88,-262.65 146.02,-252.28 137.88,-259.05 143.88,-262.65\"/>\n</g>\n<!-- Value(data=5) -->\n<g id=\"node6\" class=\"node\">\n<title>Value(data=5)</title>\n<ellipse fill=\"none\" stroke=\"black\" cx=\"167.39\" cy=\"-450\" rx=\"61.19\" ry=\"18\"/>\n<text text-anchor=\"middle\" x=\"167.39\" y=\"-446.3\" font-family=\"Times,serif\" font-size=\"14.00\">Value(data=5)</text>\n</g>\n<!-- Value(data=5)/Value(data=2) -->\n<g id=\"node10\" class=\"node\">\n<title>Value(data=5)/Value(data=2)</title>\n<ellipse fill=\"none\" stroke=\"black\" cx=\"360.39\" cy=\"-378\" rx=\"113.98\" ry=\"18\"/>\n<text text-anchor=\"middle\" x=\"360.39\" y=\"-374.3\" font-family=\"Times,serif\" font-size=\"14.00\">Value(data=5)/Value(data=2)</text>\n</g>\n<!-- Value(data=5)&#45;&gt;Value(data=5)/Value(data=2) -->\n<g id=\"edge7\" class=\"edge\">\n<title>Value(data=5)&#45;&gt;Value(data=5)/Value(data=2)</title>\n<path fill=\"none\" stroke=\"black\" d=\"M204.6,-435.5C233.91,-424.87 275.14,-409.92 307.82,-398.07\"/>\n<polygon fill=\"black\" stroke=\"black\" points=\"309.02,-401.35 317.23,-394.65 306.63,-394.77 309.02,-401.35\"/>\n</g>\n<!-- Value(data=5)&#45;Value(data=2) -->\n<g id=\"node11\" class=\"node\">\n<title>Value(data=5)&#45;Value(data=2)</title>\n<ellipse fill=\"none\" stroke=\"black\" cx=\"114.39\" cy=\"-378\" rx=\"114.28\" ry=\"18\"/>\n<text text-anchor=\"middle\" x=\"114.39\" y=\"-374.3\" font-family=\"Times,serif\" font-size=\"14.00\">Value(data=5)&#45;Value(data=2)</text>\n</g>\n<!-- Value(data=5)&#45;&gt;Value(data=5)&#45;Value(data=2) -->\n<g id=\"edge10\" class=\"edge\">\n<title>Value(data=5)&#45;&gt;Value(data=5)&#45;Value(data=2)</title>\n<path fill=\"none\" stroke=\"black\" d=\"M154.56,-432.05C148.27,-423.75 140.57,-413.58 133.6,-404.38\"/>\n<polygon fill=\"black\" stroke=\"black\" points=\"136.3,-402.14 127.47,-396.28 130.72,-406.36 136.3,-402.14\"/>\n</g>\n<!-- Value(data=2) -->\n<g id=\"node7\" class=\"node\">\n<title>Value(data=2)</title>\n<ellipse fill=\"none\" stroke=\"black\" cx=\"333.39\" cy=\"-450\" rx=\"61.19\" ry=\"18\"/>\n<text text-anchor=\"middle\" x=\"333.39\" y=\"-446.3\" font-family=\"Times,serif\" font-size=\"14.00\">Value(data=2)</text>\n</g>\n<!-- Value(data=2)&#45;&gt;Value(data=5)/Value(data=2) -->\n<g id=\"edge8\" class=\"edge\">\n<title>Value(data=2)&#45;&gt;Value(data=5)/Value(data=2)</title>\n<path fill=\"none\" stroke=\"black\" d=\"M339.93,-432.05C342.96,-424.18 346.65,-414.62 350.06,-405.79\"/>\n<polygon fill=\"black\" stroke=\"black\" points=\"353.39,-406.86 353.73,-396.28 346.86,-404.35 353.39,-406.86\"/>\n</g>\n<!-- Value(data=2)&#45;&gt;Value(data=5)&#45;Value(data=2) -->\n<g id=\"edge11\" class=\"edge\">\n<title>Value(data=2)&#45;&gt;Value(data=5)&#45;Value(data=2)</title>\n<path fill=\"none\" stroke=\"black\" d=\"M293.48,-436.24C259.61,-425.42 210.59,-409.75 172.39,-397.54\"/>\n<polygon fill=\"black\" stroke=\"black\" points=\"173.02,-394.07 162.43,-394.36 170.89,-400.73 173.02,-394.07\"/>\n</g>\n<!-- Value(data=&#45;9)+Value(data=0.4)&#45;&gt;Value(data=&#45;8.6) -->\n<g id=\"edge3\" class=\"edge\">\n<title>Value(data=&#45;9)+Value(data=0.4)&#45;&gt;Value(data=&#45;8.6)</title>\n<path fill=\"none\" stroke=\"black\" d=\"M258.39,-71.7C258.39,-63.98 258.39,-54.71 258.39,-46.11\"/>\n<polygon fill=\"black\" stroke=\"black\" points=\"261.89,-46.1 258.39,-36.1 254.89,-46.1 261.89,-46.1\"/>\n</g>\n<!-- Value(data=3)*Value(data=&#45;3)&#45;&gt;Value(data=&#45;9) -->\n<g id=\"edge6\" class=\"edge\">\n<title>Value(data=3)*Value(data=&#45;3)&#45;&gt;Value(data=&#45;9)</title>\n<path fill=\"none\" stroke=\"black\" d=\"M169.95,-216.05C176.76,-207.54 185.14,-197.07 192.64,-187.68\"/>\n<polygon fill=\"black\" stroke=\"black\" points=\"195.44,-189.78 198.96,-179.79 189.98,-185.41 195.44,-189.78\"/>\n</g>\n<!-- Value(data=5)/Value(data=2)&#45;&gt;Value(data=0.4) -->\n<g id=\"edge9\" class=\"edge\">\n<title>Value(data=5)/Value(data=2)&#45;&gt;Value(data=0.4)</title>\n<path fill=\"none\" stroke=\"black\" d=\"M360.39,-359.87C360.39,-335.67 360.39,-291.21 360.39,-262.39\"/>\n<polygon fill=\"black\" stroke=\"black\" points=\"363.89,-262.19 360.39,-252.19 356.89,-262.19 363.89,-262.19\"/>\n</g>\n<!-- Value(data=5)&#45;Value(data=2)&#45;&gt;Value(data=&#45;3) -->\n<g id=\"edge12\" class=\"edge\">\n<title>Value(data=5)&#45;Value(data=2)&#45;&gt;Value(data=&#45;3)</title>\n<path fill=\"none\" stroke=\"black\" d=\"M114.39,-359.7C114.39,-351.98 114.39,-342.71 114.39,-334.11\"/>\n<polygon fill=\"black\" stroke=\"black\" points=\"117.89,-334.1 114.39,-324.1 110.89,-334.1 117.89,-334.1\"/>\n</g>\n</g>\n</svg>\n",
            "text/plain": [
              "<graphviz.graphs.Digraph at 0x7d7f9ffd57b0>"
            ]
          },
          "metadata": {},
          "execution_count": 28
        }
      ]
    }
  ]
}