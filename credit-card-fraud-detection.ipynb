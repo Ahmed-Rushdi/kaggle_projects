{
 "cells": [
  {
   "cell_type": "code",
   "execution_count": 1,
   "id": "a845bd9f",
   "metadata": {
    "execution": {
     "iopub.execute_input": "2024-04-15T16:11:05.132957Z",
     "iopub.status.busy": "2024-04-15T16:11:05.132212Z",
     "iopub.status.idle": "2024-04-15T16:11:15.115335Z",
     "shell.execute_reply": "2024-04-15T16:11:15.114355Z"
    },
    "papermill": {
     "duration": 9.989926,
     "end_time": "2024-04-15T16:11:15.117491",
     "exception": false,
     "start_time": "2024-04-15T16:11:05.127565",
     "status": "completed"
    },
    "tags": []
   },
   "outputs": [],
   "source": [
    "SEED = 12\n",
    "BATCH_SIZE = 64\n",
    "import pandas as pd\n",
    "import numpy as np\n",
    "import torch\n",
    "from torch import nn\n",
    "from torch.utils.data import Dataset,DataLoader\n",
    "from sklearn.model_selection import train_test_split"
   ]
  },
  {
   "cell_type": "code",
   "execution_count": 2,
   "id": "78efb9b6",
   "metadata": {
    "execution": {
     "iopub.execute_input": "2024-04-15T16:11:15.124374Z",
     "iopub.status.busy": "2024-04-15T16:11:15.123634Z",
     "iopub.status.idle": "2024-04-15T16:11:15.211242Z",
     "shell.execute_reply": "2024-04-15T16:11:15.210268Z"
    },
    "papermill": {
     "duration": 0.092817,
     "end_time": "2024-04-15T16:11:15.213158",
     "exception": false,
     "start_time": "2024-04-15T16:11:15.120341",
     "status": "completed"
    },
    "tags": []
   },
   "outputs": [
    {
     "name": "stdout",
     "output_type": "stream",
     "text": [
      "Using cuda device\n"
     ]
    }
   ],
   "source": [
    "device = \"cuda\" if torch.cuda.is_available() else \"cpu\"\n",
    "\n",
    "print(f\"Using {device} device\")"
   ]
  },
  {
   "cell_type": "code",
   "execution_count": 3,
   "id": "27ed84b3",
   "metadata": {
    "execution": {
     "iopub.execute_input": "2024-04-15T16:11:15.219788Z",
     "iopub.status.busy": "2024-04-15T16:11:15.219106Z",
     "iopub.status.idle": "2024-04-15T16:11:40.084647Z",
     "shell.execute_reply": "2024-04-15T16:11:40.083382Z"
    },
    "papermill": {
     "duration": 24.871006,
     "end_time": "2024-04-15T16:11:40.086827",
     "exception": false,
     "start_time": "2024-04-15T16:11:15.215821",
     "status": "completed"
    },
    "tags": []
   },
   "outputs": [
    {
     "name": "stdout",
     "output_type": "stream",
     "text": [
      "Shape of X [Time, V1-28, Amount]: torch.Size([64, 30])\n",
      "Shape of y [Class]: torch.Size([64]) torch.int64\n"
     ]
    }
   ],
   "source": [
    "class CCFDataset(Dataset):\n",
    "    def __init__(self, csv_file):\n",
    "        self.data = pd.read_csv(csv_file)\n",
    "        self.labels = self.data.iloc[:, -1]\n",
    "        self.features = self.data.iloc[:, :-1]\n",
    "\n",
    "    def __len__(self):\n",
    "        return len(self.data)\n",
    "\n",
    "    def __getitem__(self, idx):\n",
    "        features = torch.tensor(self.features.iloc[idx].values, dtype=torch.float32).to()\n",
    "        label = torch.tensor(self.labels.iloc[idx], dtype=torch.long)\n",
    "        return features, label\n",
    "\n",
    "# Example usage:\n",
    "dataset = CCFDataset(\"/kaggle/input/creditcardfraud/creditcard.csv\")\n",
    "train_data, test_data = train_test_split(dataset, test_size=0.2, random_state=SEED)\n",
    "\n",
    "\n",
    "\n",
    "train_dl = DataLoader(train_data, batch_size=BATCH_SIZE, shuffle=True, pin_memory = True if device == \"cuda\" else False)\n",
    "test_dl = DataLoader(test_data, batch_size=BATCH_SIZE, shuffle=False, pin_memory = True if device == \"cuda\" else False)\n",
    "for X, y in test_dl:\n",
    "    print(f\"Shape of X [Time, V1-28, Amount]: {X.shape}\")\n",
    "    print(f\"Shape of y [Class]: {y.shape} {y.dtype}\")\n",
    "    break"
   ]
  },
  {
   "cell_type": "code",
   "execution_count": 4,
   "id": "9a2ffef7",
   "metadata": {
    "execution": {
     "iopub.execute_input": "2024-04-15T16:11:40.093503Z",
     "iopub.status.busy": "2024-04-15T16:11:40.093167Z",
     "iopub.status.idle": "2024-04-15T16:11:40.145182Z",
     "shell.execute_reply": "2024-04-15T16:11:40.144111Z"
    },
    "papermill": {
     "duration": 0.057722,
     "end_time": "2024-04-15T16:11:40.147287",
     "exception": false,
     "start_time": "2024-04-15T16:11:40.089565",
     "status": "completed"
    },
    "tags": []
   },
   "outputs": [
    {
     "name": "stdout",
     "output_type": "stream",
     "text": [
      "ModelNN(\n",
      "  (dense_relu_stack): Sequential(\n",
      "    (0): Linear(in_features=30, out_features=64, bias=True)\n",
      "    (1): ReLU()\n",
      "    (2): Linear(in_features=64, out_features=64, bias=True)\n",
      "    (3): ReLU()\n",
      "    (4): Linear(in_features=64, out_features=1, bias=True)\n",
      "    (5): Sigmoid()\n",
      "  )\n",
      ")\n"
     ]
    }
   ],
   "source": [
    "class ModelNN (nn.Module):\n",
    "    def __init__(self):\n",
    "        super().__init__()\n",
    "        self.dense_relu_stack = nn.Sequential(\n",
    "            nn.Linear(30,64),\n",
    "            nn.ReLU(),\n",
    "            nn.Linear(64,64),\n",
    "            nn.ReLU(),\n",
    "            nn.Linear(64,1),\n",
    "            nn.Sigmoid(),\n",
    "        )\n",
    "    def forward(self, x):\n",
    "        return self.dense_relu_stack(x)\n",
    "model = ModelNN().to(device)\n",
    "print(model)        "
   ]
  },
  {
   "cell_type": "code",
   "execution_count": 5,
   "id": "7fd89513",
   "metadata": {
    "execution": {
     "iopub.execute_input": "2024-04-15T16:11:40.154394Z",
     "iopub.status.busy": "2024-04-15T16:11:40.154070Z",
     "iopub.status.idle": "2024-04-15T16:11:40.158056Z",
     "shell.execute_reply": "2024-04-15T16:11:40.157172Z"
    },
    "papermill": {
     "duration": 0.009859,
     "end_time": "2024-04-15T16:11:40.159985",
     "exception": false,
     "start_time": "2024-04-15T16:11:40.150126",
     "status": "completed"
    },
    "tags": []
   },
   "outputs": [],
   "source": [
    "##TODO\n",
    "##Training Loop\n",
    "##Optimization\n",
    "##Explore other techniques"
   ]
  }
 ],
 "metadata": {
  "kaggle": {
   "accelerator": "nvidiaTeslaT4",
   "dataSources": [
    {
     "datasetId": 310,
     "sourceId": 23498,
     "sourceType": "datasetVersion"
    }
   ],
   "dockerImageVersionId": 30683,
   "isGpuEnabled": true,
   "isInternetEnabled": true,
   "language": "python",
   "sourceType": "notebook"
  },
  "kernelspec": {
   "display_name": "Python 3",
   "language": "python",
   "name": "python3"
  },
  "language_info": {
   "codemirror_mode": {
    "name": "ipython",
    "version": 3
   },
   "file_extension": ".py",
   "mimetype": "text/x-python",
   "name": "python",
   "nbconvert_exporter": "python",
   "pygments_lexer": "ipython3",
   "version": "3.10.13"
  },
  "papermill": {
   "default_parameters": {},
   "duration": 41.945125,
   "end_time": "2024-04-15T16:11:43.126525",
   "environment_variables": {},
   "exception": null,
   "input_path": "__notebook__.ipynb",
   "output_path": "__notebook__.ipynb",
   "parameters": {},
   "start_time": "2024-04-15T16:11:01.181400",
   "version": "2.5.0"
  }
 },
 "nbformat": 4,
 "nbformat_minor": 5
}
