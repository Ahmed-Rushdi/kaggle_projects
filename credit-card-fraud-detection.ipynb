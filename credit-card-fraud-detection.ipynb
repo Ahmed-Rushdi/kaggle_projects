{
 "cells": [
  {
   "cell_type": "code",
   "execution_count": 1,
   "id": "5861e33e",
   "metadata": {
    "execution": {
     "iopub.execute_input": "2024-04-16T13:47:19.919718Z",
     "iopub.status.busy": "2024-04-16T13:47:19.918972Z",
     "iopub.status.idle": "2024-04-16T13:47:25.738227Z",
     "shell.execute_reply": "2024-04-16T13:47:25.737398Z"
    },
    "papermill": {
     "duration": 5.827442,
     "end_time": "2024-04-16T13:47:25.740623",
     "exception": false,
     "start_time": "2024-04-16T13:47:19.913181",
     "status": "completed"
    },
    "tags": []
   },
   "outputs": [],
   "source": [
    "SEED = 12\n",
    "BATCH_SIZE = 64\n",
    "import pandas as pd\n",
    "import numpy as np\n",
    "import torch\n",
    "from torch import nn\n",
    "from torch.utils.data import Dataset,DataLoader\n",
    "from sklearn.model_selection import train_test_split\n",
    "torch.manual_seed(SEED)\n",
    "np.random.seed(SEED)\n",
    "if torch.cuda.is_available():\n",
    "    torch.cuda.manual_seed(SEED)"
   ]
  },
  {
   "cell_type": "code",
   "execution_count": 2,
   "id": "b3179a9f",
   "metadata": {
    "execution": {
     "iopub.execute_input": "2024-04-16T13:47:25.749453Z",
     "iopub.status.busy": "2024-04-16T13:47:25.748994Z",
     "iopub.status.idle": "2024-04-16T13:47:29.406581Z",
     "shell.execute_reply": "2024-04-16T13:47:29.405488Z"
    },
    "papermill": {
     "duration": 3.66442,
     "end_time": "2024-04-16T13:47:29.408942",
     "exception": false,
     "start_time": "2024-04-16T13:47:25.744522",
     "status": "completed"
    },
    "tags": []
   },
   "outputs": [
    {
     "name": "stdout",
     "output_type": "stream",
     "text": [
      "Class\n",
      "0    0.998273\n",
      "1    0.001727\n",
      "Name: proportion, dtype: float64\n"
     ]
    }
   ],
   "source": [
    "print(pd.read_csv(\"/kaggle/input/creditcardfraud/creditcard.csv\")['Class'].value_counts(normalize=True))"
   ]
  },
  {
   "cell_type": "code",
   "execution_count": 3,
   "id": "c3430165",
   "metadata": {
    "execution": {
     "iopub.execute_input": "2024-04-16T13:47:29.418121Z",
     "iopub.status.busy": "2024-04-16T13:47:29.417785Z",
     "iopub.status.idle": "2024-04-16T13:47:29.422926Z",
     "shell.execute_reply": "2024-04-16T13:47:29.422004Z"
    },
    "papermill": {
     "duration": 0.012086,
     "end_time": "2024-04-16T13:47:29.424901",
     "exception": false,
     "start_time": "2024-04-16T13:47:29.412815",
     "status": "completed"
    },
    "tags": []
   },
   "outputs": [
    {
     "name": "stdout",
     "output_type": "stream",
     "text": [
      "Using cuda device\n"
     ]
    }
   ],
   "source": [
    "device = \"cuda\" if torch.cuda.is_available() else \"cpu\"\n",
    "\n",
    "print(f\"Using {device} device\")"
   ]
  },
  {
   "cell_type": "code",
   "execution_count": 4,
   "id": "6cf6ce1e",
   "metadata": {
    "execution": {
     "iopub.execute_input": "2024-04-16T13:47:29.434621Z",
     "iopub.status.busy": "2024-04-16T13:47:29.433976Z",
     "iopub.status.idle": "2024-04-16T13:47:51.735010Z",
     "shell.execute_reply": "2024-04-16T13:47:51.734048Z"
    },
    "papermill": {
     "duration": 22.307994,
     "end_time": "2024-04-16T13:47:51.737052",
     "exception": false,
     "start_time": "2024-04-16T13:47:29.429058",
     "status": "completed"
    },
    "tags": []
   },
   "outputs": [
    {
     "name": "stdout",
     "output_type": "stream",
     "text": [
      "Shape of X [Time, V1-28, Amount]: torch.Size([64, 30])\n",
      "Shape of y [Class]: torch.Size([64]) torch.int64\n"
     ]
    }
   ],
   "source": [
    "class CCFDataset(Dataset):\n",
    "    def __init__(self, csv_file):\n",
    "        self.data = pd.read_csv(csv_file)\n",
    "        self.labels = self.data.iloc[:, -1]\n",
    "        self.features = self.data.iloc[:, :-1]\n",
    "\n",
    "    def __len__(self):\n",
    "        return len(self.data)\n",
    "\n",
    "    def __getitem__(self, idx):\n",
    "        features = torch.tensor(self.features.iloc[idx].values, dtype=torch.float32).to()\n",
    "        label = torch.tensor(self.labels.iloc[idx], dtype=torch.long)\n",
    "        return features, label\n",
    "\n",
    "# Example usage:\n",
    "dataset = CCFDataset(\"/kaggle/input/creditcardfraud/creditcard.csv\")\n",
    "train_data, test_data = train_test_split(dataset, test_size=0.2, random_state=SEED)\n",
    "\n",
    "\n",
    "\n",
    "train_dl = DataLoader(train_data, batch_size=BATCH_SIZE, shuffle=True,)\n",
    "test_dl = DataLoader(test_data, batch_size=BATCH_SIZE, shuffle=False,)\n",
    "for X, y in test_dl:\n",
    "    print(f\"Shape of X [Time, V1-28, Amount]: {X.shape}\")\n",
    "    print(f\"Shape of y [Class]: {y.shape} {y.dtype}\")\n",
    "    break"
   ]
  },
  {
   "cell_type": "code",
   "execution_count": 5,
   "id": "061dc62f",
   "metadata": {
    "execution": {
     "iopub.execute_input": "2024-04-16T13:47:51.745944Z",
     "iopub.status.busy": "2024-04-16T13:47:51.745683Z",
     "iopub.status.idle": "2024-04-16T13:47:51.909880Z",
     "shell.execute_reply": "2024-04-16T13:47:51.908861Z"
    },
    "papermill": {
     "duration": 0.171216,
     "end_time": "2024-04-16T13:47:51.912286",
     "exception": false,
     "start_time": "2024-04-16T13:47:51.741070",
     "status": "completed"
    },
    "tags": []
   },
   "outputs": [
    {
     "name": "stdout",
     "output_type": "stream",
     "text": [
      "ModelNN(\n",
      "  (dense_relu_stack): Sequential(\n",
      "    (0): Linear(in_features=30, out_features=64, bias=True)\n",
      "    (1): ReLU()\n",
      "    (2): Linear(in_features=64, out_features=64, bias=True)\n",
      "    (3): ReLU()\n",
      "    (4): Linear(in_features=64, out_features=2, bias=True)\n",
      "  )\n",
      ")\n"
     ]
    }
   ],
   "source": [
    "class ModelNN (nn.Module):\n",
    "    def __init__(self):\n",
    "        super().__init__()\n",
    "        self.dense_relu_stack = nn.Sequential(\n",
    "            nn.Linear(30,64),\n",
    "            nn.ReLU(),\n",
    "            nn.Linear(64,64),\n",
    "            nn.ReLU(),\n",
    "            nn.Linear(64,2),\n",
    "        )\n",
    "    def forward(self, x):\n",
    "        return self.dense_relu_stack(x)\n",
    "model = ModelNN().to(device)\n",
    "print(model)        "
   ]
  },
  {
   "cell_type": "code",
   "execution_count": 6,
   "id": "03dcaaae",
   "metadata": {
    "execution": {
     "iopub.execute_input": "2024-04-16T13:47:51.921246Z",
     "iopub.status.busy": "2024-04-16T13:47:51.920946Z",
     "iopub.status.idle": "2024-04-16T13:47:54.540422Z",
     "shell.execute_reply": "2024-04-16T13:47:54.539375Z"
    },
    "papermill": {
     "duration": 2.626562,
     "end_time": "2024-04-16T13:47:54.542830",
     "exception": false,
     "start_time": "2024-04-16T13:47:51.916268",
     "status": "completed"
    },
    "tags": []
   },
   "outputs": [],
   "source": [
    "loss_fn = nn.CrossEntropyLoss()\n",
    "optimizer = torch.optim.SGD(model.parameters(), lr=1e-3)"
   ]
  },
  {
   "cell_type": "code",
   "execution_count": 7,
   "id": "c3609fbe",
   "metadata": {
    "execution": {
     "iopub.execute_input": "2024-04-16T13:47:54.552441Z",
     "iopub.status.busy": "2024-04-16T13:47:54.551940Z",
     "iopub.status.idle": "2024-04-16T13:47:54.558864Z",
     "shell.execute_reply": "2024-04-16T13:47:54.558026Z"
    },
    "papermill": {
     "duration": 0.013759,
     "end_time": "2024-04-16T13:47:54.560745",
     "exception": false,
     "start_time": "2024-04-16T13:47:54.546986",
     "status": "completed"
    },
    "tags": []
   },
   "outputs": [],
   "source": [
    "def train(dataloader, model, loss_fn, optimizer):\n",
    "    size = len(dataloader.dataset)\n",
    "    model.train()\n",
    "    for batch, (X, y) in enumerate(dataloader):\n",
    "        X, y = X.to(device), y.to(device)\n",
    "\n",
    "        # Compute prediction error\n",
    "        pred = model(X)\n",
    "        loss = loss_fn(pred, y)\n",
    "\n",
    "        # Backpropagation\n",
    "        loss.backward()\n",
    "        optimizer.step()\n",
    "        optimizer.zero_grad()\n",
    "\n",
    "        if batch % 100 == 0:\n",
    "            loss, current = loss.item(), (batch + 1) * len(X)\n",
    "            print(f\"loss: {loss:>7f}  [{current:>5d}/{size:>5d}]\")"
   ]
  },
  {
   "cell_type": "code",
   "execution_count": 8,
   "id": "353f370f",
   "metadata": {
    "execution": {
     "iopub.execute_input": "2024-04-16T13:47:54.569694Z",
     "iopub.status.busy": "2024-04-16T13:47:54.569428Z",
     "iopub.status.idle": "2024-04-16T13:47:54.575801Z",
     "shell.execute_reply": "2024-04-16T13:47:54.575050Z"
    },
    "papermill": {
     "duration": 0.012977,
     "end_time": "2024-04-16T13:47:54.577669",
     "exception": false,
     "start_time": "2024-04-16T13:47:54.564692",
     "status": "completed"
    },
    "tags": []
   },
   "outputs": [],
   "source": [
    "def test(dataloader, model, loss_fn):\n",
    "    size = len(dataloader.dataset)\n",
    "    num_batches = len(dataloader)\n",
    "    model.eval()\n",
    "    test_loss, correct = 0, 0\n",
    "    with torch.no_grad():\n",
    "        for X, y in dataloader:\n",
    "            X, y = X.to(device), y.to(device)\n",
    "            pred = model(X)\n",
    "            test_loss += loss_fn(pred, y).item()\n",
    "            correct += (pred.argmax(1) == y).type(torch.float).sum().item()\n",
    "    test_loss /= num_batches\n",
    "    correct /= size\n",
    "    print(f\"Test Error: \\n Accuracy: {(100*correct):>0.1f}%, Avg loss: {test_loss:>8f} \\n\")"
   ]
  },
  {
   "cell_type": "code",
   "execution_count": 9,
   "id": "6d3d9e12",
   "metadata": {
    "execution": {
     "iopub.execute_input": "2024-04-16T13:47:54.586326Z",
     "iopub.status.busy": "2024-04-16T13:47:54.586037Z",
     "iopub.status.idle": "2024-04-16T13:48:20.356078Z",
     "shell.execute_reply": "2024-04-16T13:48:20.354994Z"
    },
    "papermill": {
     "duration": 25.77688,
     "end_time": "2024-04-16T13:48:20.358368",
     "exception": false,
     "start_time": "2024-04-16T13:47:54.581488",
     "status": "completed"
    },
    "tags": []
   },
   "outputs": [
    {
     "name": "stdout",
     "output_type": "stream",
     "text": [
      "Epoch 1\n",
      "-------------------------------\n",
      "loss: 78.039818  [   64/227845]\n",
      "loss: 0.007973  [ 6464/227845]\n",
      "loss: 0.085488  [12864/227845]\n",
      "loss: 0.005275  [19264/227845]\n",
      "loss: 0.004654  [25664/227845]\n",
      "loss: 0.003990  [32064/227845]\n",
      "loss: 0.003488  [38464/227845]\n",
      "loss: 0.092366  [44864/227845]\n",
      "loss: 0.093196  [51264/227845]\n",
      "loss: 0.002830  [57664/227845]\n",
      "loss: 0.002682  [64064/227845]\n",
      "loss: 0.002577  [70464/227845]\n",
      "loss: 0.002516  [76864/227845]\n",
      "loss: 0.002485  [83264/227845]\n",
      "loss: 0.002389  [89664/227845]\n",
      "loss: 0.002292  [96064/227845]\n",
      "loss: 0.002251  [102464/227845]\n",
      "loss: 0.002190  [108864/227845]\n",
      "loss: 0.097498  [115264/227845]\n",
      "loss: 0.002151  [121664/227845]\n",
      "loss: 0.002125  [128064/227845]\n",
      "loss: 0.098686  [134464/227845]\n",
      "loss: 0.002071  [140864/227845]\n",
      "loss: 0.002054  [147264/227845]\n",
      "loss: 0.002008  [153664/227845]\n",
      "loss: 0.002064  [160064/227845]\n",
      "loss: 0.099036  [166464/227845]\n",
      "loss: 0.001929  [172864/227845]\n",
      "loss: 0.001993  [179264/227845]\n",
      "loss: 0.001998  [185664/227845]\n",
      "loss: 0.001935  [192064/227845]\n",
      "loss: 0.001892  [198464/227845]\n",
      "loss: 0.001840  [204864/227845]\n",
      "loss: 0.001870  [211264/227845]\n",
      "loss: 0.100380  [217664/227845]\n",
      "loss: 0.100823  [224064/227845]\n",
      "Test Error: \n",
      " Accuracy: 99.8%, Avg loss: 0.012105 \n",
      "\n",
      "Epoch 2\n",
      "-------------------------------\n",
      "loss: 0.001814  [   64/227845]\n",
      "loss: 0.001807  [ 6464/227845]\n",
      "loss: 0.001825  [12864/227845]\n",
      "loss: 0.100316  [19264/227845]\n",
      "loss: 0.001790  [25664/227845]\n",
      "loss: 0.001799  [32064/227845]\n",
      "loss: 0.001831  [38464/227845]\n",
      "loss: 0.001787  [44864/227845]\n",
      "loss: 0.001795  [51264/227845]\n",
      "loss: 0.001752  [57664/227845]\n",
      "loss: 0.001838  [64064/227845]\n",
      "loss: 0.001805  [70464/227845]\n",
      "loss: 0.001738  [76864/227845]\n",
      "loss: 0.001685  [83264/227845]\n",
      "loss: 0.001723  [89664/227845]\n",
      "loss: 0.001768  [96064/227845]\n",
      "loss: 0.100516  [102464/227845]\n",
      "loss: 0.001858  [108864/227845]\n",
      "loss: 0.001872  [115264/227845]\n",
      "loss: 0.001769  [121664/227845]\n",
      "loss: 0.001731  [128064/227845]\n",
      "loss: 0.001718  [134464/227845]\n",
      "loss: 0.101466  [140864/227845]\n",
      "loss: 0.001676  [147264/227845]\n",
      "loss: 0.001704  [153664/227845]\n",
      "loss: 0.001717  [160064/227845]\n",
      "loss: 0.001740  [166464/227845]\n",
      "loss: 0.001717  [172864/227845]\n",
      "loss: 0.001729  [179264/227845]\n",
      "loss: 0.001718  [185664/227845]\n",
      "loss: 0.001750  [192064/227845]\n",
      "loss: 0.001737  [198464/227845]\n",
      "loss: 0.001701  [204864/227845]\n",
      "loss: 0.001725  [211264/227845]\n",
      "loss: 0.001774  [217664/227845]\n",
      "loss: 0.001795  [224064/227845]\n",
      "Test Error: \n",
      " Accuracy: 99.8%, Avg loss: 0.012101 \n",
      "\n",
      "Epoch 3\n",
      "-------------------------------\n",
      "loss: 0.100767  [   64/227845]\n",
      "loss: 0.001718  [ 6464/227845]\n",
      "loss: 0.001660  [12864/227845]\n",
      "loss: 0.001630  [19264/227845]\n",
      "loss: 0.001589  [25664/227845]\n",
      "loss: 0.001623  [32064/227845]\n",
      "loss: 0.001598  [38464/227845]\n",
      "loss: 0.001747  [44864/227845]\n",
      "loss: 0.001759  [51264/227845]\n",
      "loss: 0.001764  [57664/227845]\n",
      "loss: 0.001760  [64064/227845]\n",
      "loss: 0.001807  [70464/227845]\n",
      "loss: 0.001788  [76864/227845]\n",
      "loss: 0.001871  [83264/227845]\n",
      "loss: 0.001868  [89664/227845]\n",
      "loss: 0.001949  [96064/227845]\n",
      "loss: 0.001865  [102464/227845]\n",
      "loss: 0.001815  [108864/227845]\n",
      "loss: 0.001807  [115264/227845]\n",
      "loss: 0.001765  [121664/227845]\n",
      "loss: 0.001749  [128064/227845]\n",
      "loss: 0.001724  [134464/227845]\n",
      "loss: 0.001785  [140864/227845]\n",
      "loss: 0.001731  [147264/227845]\n",
      "loss: 0.001754  [153664/227845]\n",
      "loss: 0.001715  [160064/227845]\n",
      "loss: 0.001681  [166464/227845]\n",
      "loss: 0.001755  [172864/227845]\n",
      "loss: 0.001803  [179264/227845]\n",
      "loss: 0.001834  [185664/227845]\n",
      "loss: 0.001776  [192064/227845]\n",
      "loss: 0.199535  [198464/227845]\n",
      "loss: 0.001741  [204864/227845]\n",
      "loss: 0.001740  [211264/227845]\n",
      "loss: 0.001746  [217664/227845]\n",
      "loss: 0.001715  [224064/227845]\n",
      "Test Error: \n",
      " Accuracy: 99.8%, Avg loss: 0.012100 \n",
      "\n",
      "Epoch 4\n",
      "-------------------------------\n",
      "loss: 0.001728  [   64/227845]\n",
      "loss: 0.001729  [ 6464/227845]\n",
      "loss: 0.001728  [12864/227845]\n",
      "loss: 0.001777  [19264/227845]\n",
      "loss: 0.001808  [25664/227845]\n",
      "loss: 0.001799  [32064/227845]\n",
      "loss: 0.001820  [38464/227845]\n",
      "loss: 0.099773  [44864/227845]\n",
      "loss: 0.001899  [51264/227845]\n",
      "loss: 0.099716  [57664/227845]\n",
      "loss: 0.001933  [64064/227845]\n",
      "loss: 0.001888  [70464/227845]\n",
      "loss: 0.100359  [76864/227845]\n",
      "loss: 0.001827  [83264/227845]\n",
      "loss: 0.001809  [89664/227845]\n",
      "loss: 0.001752  [96064/227845]\n",
      "loss: 0.001679  [102464/227845]\n",
      "loss: 0.001615  [108864/227845]\n",
      "loss: 0.001667  [115264/227845]\n",
      "loss: 0.001650  [121664/227845]\n",
      "loss: 0.001690  [128064/227845]\n",
      "loss: 0.001682  [134464/227845]\n",
      "loss: 0.001708  [140864/227845]\n",
      "loss: 0.001698  [147264/227845]\n",
      "loss: 0.001722  [153664/227845]\n",
      "loss: 0.001675  [160064/227845]\n",
      "loss: 0.001678  [166464/227845]\n",
      "loss: 0.001647  [172864/227845]\n",
      "loss: 0.001619  [179264/227845]\n",
      "loss: 0.001661  [185664/227845]\n",
      "loss: 0.101773  [192064/227845]\n",
      "loss: 0.001671  [198464/227845]\n",
      "loss: 0.001712  [204864/227845]\n",
      "loss: 0.001690  [211264/227845]\n",
      "loss: 0.001739  [217664/227845]\n",
      "loss: 0.100739  [224064/227845]\n",
      "Test Error: \n",
      " Accuracy: 99.8%, Avg loss: 0.012102 \n",
      "\n",
      "Epoch 5\n",
      "-------------------------------\n",
      "loss: 0.001775  [   64/227845]\n",
      "loss: 0.001747  [ 6464/227845]\n",
      "loss: 0.001756  [12864/227845]\n",
      "loss: 0.001730  [19264/227845]\n",
      "loss: 0.100614  [25664/227845]\n",
      "loss: 0.001747  [32064/227845]\n",
      "loss: 0.001745  [38464/227845]\n",
      "loss: 0.001770  [44864/227845]\n",
      "loss: 0.001753  [51264/227845]\n",
      "loss: 0.001748  [57664/227845]\n",
      "loss: 0.001796  [64064/227845]\n",
      "loss: 0.001829  [70464/227845]\n",
      "loss: 0.001770  [76864/227845]\n",
      "loss: 0.001768  [83264/227845]\n",
      "loss: 0.001765  [89664/227845]\n",
      "loss: 0.001726  [96064/227845]\n",
      "loss: 0.001713  [102464/227845]\n",
      "loss: 0.001726  [108864/227845]\n",
      "loss: 0.001824  [115264/227845]\n",
      "loss: 0.001817  [121664/227845]\n",
      "loss: 0.001796  [128064/227845]\n",
      "loss: 0.001854  [134464/227845]\n",
      "loss: 0.001831  [140864/227845]\n",
      "loss: 0.001837  [147264/227845]\n",
      "loss: 0.100216  [153664/227845]\n",
      "loss: 0.001832  [160064/227845]\n",
      "loss: 0.001809  [166464/227845]\n",
      "loss: 0.001778  [172864/227845]\n",
      "loss: 0.001736  [179264/227845]\n",
      "loss: 0.001721  [185664/227845]\n",
      "loss: 0.001673  [192064/227845]\n",
      "loss: 0.001712  [198464/227845]\n",
      "loss: 0.001740  [204864/227845]\n",
      "loss: 0.001737  [211264/227845]\n",
      "loss: 0.001737  [217664/227845]\n",
      "loss: 0.001719  [224064/227845]\n",
      "Test Error: \n",
      " Accuracy: 99.8%, Avg loss: 0.012099 \n",
      "\n",
      "Done!\n"
     ]
    }
   ],
   "source": [
    "epochs = 5\n",
    "for t in range(epochs):\n",
    "    print(f\"Epoch {t+1}\\n-------------------------------\")\n",
    "    train(train_dl, model, loss_fn, optimizer)\n",
    "    test(test_dl, model, loss_fn)\n",
    "print(\"Done!\")"
   ]
  },
  {
   "cell_type": "code",
   "execution_count": 10,
   "id": "d7c47527",
   "metadata": {
    "execution": {
     "iopub.execute_input": "2024-04-16T13:48:20.381925Z",
     "iopub.status.busy": "2024-04-16T13:48:20.381613Z",
     "iopub.status.idle": "2024-04-16T13:48:20.385895Z",
     "shell.execute_reply": "2024-04-16T13:48:20.384855Z"
    },
    "papermill": {
     "duration": 0.018516,
     "end_time": "2024-04-16T13:48:20.388008",
     "exception": false,
     "start_time": "2024-04-16T13:48:20.369492",
     "status": "completed"
    },
    "tags": []
   },
   "outputs": [],
   "source": [
    "##TODO\n",
    "## Oversampling/Undersampling\n",
    "## Optimization\n",
    "## Explore other techniques"
   ]
  }
 ],
 "metadata": {
  "kaggle": {
   "accelerator": "gpu",
   "dataSources": [
    {
     "datasetId": 310,
     "sourceId": 23498,
     "sourceType": "datasetVersion"
    }
   ],
   "dockerImageVersionId": 30684,
   "isGpuEnabled": true,
   "isInternetEnabled": true,
   "language": "python",
   "sourceType": "notebook"
  },
  "kernelspec": {
   "display_name": "Python 3",
   "language": "python",
   "name": "python3"
  },
  "language_info": {
   "codemirror_mode": {
    "name": "ipython",
    "version": 3
   },
   "file_extension": ".py",
   "mimetype": "text/x-python",
   "name": "python",
   "nbconvert_exporter": "python",
   "pygments_lexer": "ipython3",
   "version": "3.10.13"
  },
  "papermill": {
   "default_parameters": {},
   "duration": 65.964531,
   "end_time": "2024-04-16T13:48:22.916981",
   "environment_variables": {},
   "exception": null,
   "input_path": "__notebook__.ipynb",
   "output_path": "__notebook__.ipynb",
   "parameters": {},
   "start_time": "2024-04-16T13:47:16.952450",
   "version": "2.5.0"
  }
 },
 "nbformat": 4,
 "nbformat_minor": 5
}
